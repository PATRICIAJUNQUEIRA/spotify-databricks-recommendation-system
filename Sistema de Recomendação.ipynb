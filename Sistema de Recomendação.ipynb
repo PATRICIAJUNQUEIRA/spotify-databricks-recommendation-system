{
 "cells": [
  {
   "cell_type": "code",
   "execution_count": 0,
   "metadata": {
    "application/vnd.databricks.v1+cell": {
     "cellMetadata": {
      "byteLimit": 2048000,
      "rowLimit": 10000
     },
     "inputWidgets": {},
     "nuid": "e2a4c8cf-f57d-4a32-a386-febc4a337856",
     "showTitle": false,
     "title": ""
    }
   },
   "outputs": [],
   "source": [
    "import pyspark.pandas as ps"
   ]
  },
  {
   "cell_type": "code",
   "execution_count": 0,
   "metadata": {
    "application/vnd.databricks.v1+cell": {
     "cellMetadata": {
      "byteLimit": 2048000,
      "rowLimit": 10000
     },
     "inputWidgets": {},
     "nuid": "59d5ddb3-55c8-4827-a80e-08ac9b600698",
     "showTitle": false,
     "title": ""
    }
   },
   "outputs": [],
   "source": [
    "path = 'dbfs:/FileStore/dados_transformados/data.parquet'\n",
    "df_data = ps.read_parquet(path)"
   ]
  },
  {
   "cell_type": "code",
   "execution_count": 0,
   "metadata": {
    "application/vnd.databricks.v1+cell": {
     "cellMetadata": {
      "byteLimit": 2048000,
      "rowLimit": 10000
     },
     "inputWidgets": {},
     "nuid": "d2dc439e-14cf-4a3d-9eda-5ad92c421d80",
     "showTitle": false,
     "title": ""
    }
   },
   "outputs": [
    {
     "output_type": "stream",
     "name": "stdout",
     "output_type": "stream",
     "text": [
      "<class 'pyspark.pandas.frame.DataFrame'>\nInt64Index: 170653 entries, 0 to 170652\nData columns (total 19 columns):\n #   Column            Non-Null Count   Dtype  \n---  ------            --------------   -----  \n 0   valence           170653 non-null  float64\n 1   year              170653 non-null  int32  \n 2   acousticness      170653 non-null  float64\n 3   artists           170653 non-null  object \n 4   danceability      170080 non-null  float64\n 5   duration_ms       170454 non-null  int64  \n 6   energy            170573 non-null  float64\n 7   explicit          170606 non-null  float64\n 8   id                170653 non-null  object \n 9   instrumentalness  170270 non-null  float64\n 10  key               170451 non-null  int64  \n 11  liveness          170613 non-null  float64\n 12  loudness          170621 non-null  float64\n 13  mode              170635 non-null  int64  \n 14  name              170653 non-null  object \n 15  popularity        169497 non-null  float64\n 16  release_date      170653 non-null  object \n 17  speechiness       170653 non-null  object \n 18  tempo             170404 non-null  float64\ndtypes: float64(10), int32(1), int64(3), object(5)"
     ]
    }
   ],
   "source": [
    "df_data.info()"
   ]
  },
  {
   "cell_type": "markdown",
   "metadata": {
    "application/vnd.databricks.v1+cell": {
     "cellMetadata": {
      "byteLimit": 2048000,
      "rowLimit": 10000
     },
     "inputWidgets": {},
     "nuid": "52ec7108-4e54-4c22-b259-2a197b597181",
     "showTitle": false,
     "title": ""
    }
   },
   "source": [
    "\n",
    "####Tratando os dados Nulos"
   ]
  },
  {
   "cell_type": "code",
   "execution_count": 0,
   "metadata": {
    "application/vnd.databricks.v1+cell": {
     "cellMetadata": {
      "byteLimit": 2048000,
      "rowLimit": 10000
     },
     "inputWidgets": {},
     "nuid": "0fddcd69-59b1-4f4a-9b23-670ac774631d",
     "showTitle": false,
     "title": ""
    }
   },
   "outputs": [],
   "source": [
    "df_data = df_data.dropna()"
   ]
  },
  {
   "cell_type": "code",
   "execution_count": 0,
   "metadata": {
    "application/vnd.databricks.v1+cell": {
     "cellMetadata": {
      "byteLimit": 2048000,
      "rowLimit": 10000
     },
     "inputWidgets": {},
     "nuid": "ecbf5277-ec6f-48e9-b9f2-c96816ebe363",
     "showTitle": false,
     "title": ""
    }
   },
   "outputs": [
    {
     "output_type": "stream",
     "name": "stdout",
     "output_type": "stream",
     "text": [
      "<class 'pyspark.pandas.frame.DataFrame'>\nInt64Index: 169300 entries, 0 to 170652\nData columns (total 19 columns):\n #   Column            Non-Null Count   Dtype  \n---  ------            --------------   -----  \n 0   valence           169300 non-null  float64\n 1   year              169300 non-null  int32  \n 2   acousticness      169300 non-null  float64\n 3   artists           169300 non-null  object \n 4   danceability      169300 non-null  float64\n 5   duration_ms       169300 non-null  int64  \n 6   energy            169300 non-null  float64\n 7   explicit          169300 non-null  float64\n 8   id                169300 non-null  object \n 9   instrumentalness  169300 non-null  float64\n 10  key               169300 non-null  int64  \n 11  liveness          169300 non-null  float64\n 12  loudness          169300 non-null  float64\n 13  mode              169300 non-null  int64  \n 14  name              169300 non-null  object \n 15  popularity        169300 non-null  float64\n 16  release_date      169300 non-null  object \n 17  speechiness       169300 non-null  object \n 18  tempo             169300 non-null  float64\ndtypes: float64(10), int32(1), int64(3), object(5)"
     ]
    }
   ],
   "source": [
    "df_data.info()"
   ]
  },
  {
   "cell_type": "markdown",
   "metadata": {
    "application/vnd.databricks.v1+cell": {
     "cellMetadata": {
      "byteLimit": 2048000,
      "rowLimit": 10000
     },
     "inputWidgets": {},
     "nuid": "a0b26e02-cda3-4f95-b06c-e612d2fcda73",
     "showTitle": false,
     "title": ""
    }
   },
   "source": [
    "\n",
    "####Concatenando colunas"
   ]
  },
  {
   "cell_type": "code",
   "execution_count": 0,
   "metadata": {
    "application/vnd.databricks.v1+cell": {
     "cellMetadata": {
      "byteLimit": 2048000,
      "rowLimit": 10000
     },
     "inputWidgets": {},
     "nuid": "a17cc04a-a328-4c3c-9ee3-53243fe849c9",
     "showTitle": false,
     "title": ""
    }
   },
   "outputs": [],
   "source": [
    "df_data['artists_song'] = df_data.artists + ' - ' + df_data.name"
   ]
  },
  {
   "cell_type": "code",
   "execution_count": 0,
   "metadata": {
    "application/vnd.databricks.v1+cell": {
     "cellMetadata": {
      "byteLimit": 2048000,
      "rowLimit": 10000
     },
     "inputWidgets": {},
     "nuid": "66311df1-09fc-48e0-8237-367cf912efde",
     "showTitle": false,
     "title": ""
    }
   },
   "outputs": [
    {
     "output_type": "display_data",
     "data": {
      "text/html": [
       "<div>\n",
       "<style scoped>\n",
       "    .dataframe tbody tr th:only-of-type {\n",
       "        vertical-align: middle;\n",
       "    }\n",
       "\n",
       "    .dataframe tbody tr th {\n",
       "        vertical-align: top;\n",
       "    }\n",
       "\n",
       "    .dataframe thead th {\n",
       "        text-align: right;\n",
       "    }\n",
       "</style>\n",
       "<table border=\"1\" class=\"dataframe\">\n",
       "  <thead>\n",
       "    <tr style=\"text-align: right;\">\n",
       "      <th></th>\n",
       "      <th>valence</th>\n",
       "      <th>year</th>\n",
       "      <th>acousticness</th>\n",
       "      <th>artists</th>\n",
       "      <th>danceability</th>\n",
       "      <th>duration_ms</th>\n",
       "      <th>energy</th>\n",
       "      <th>explicit</th>\n",
       "      <th>id</th>\n",
       "      <th>instrumentalness</th>\n",
       "      <th>key</th>\n",
       "      <th>liveness</th>\n",
       "      <th>loudness</th>\n",
       "      <th>mode</th>\n",
       "      <th>name</th>\n",
       "      <th>popularity</th>\n",
       "      <th>release_date</th>\n",
       "      <th>speechiness</th>\n",
       "      <th>tempo</th>\n",
       "      <th>artists_song</th>\n",
       "    </tr>\n",
       "  </thead>\n",
       "  <tbody>\n",
       "    <tr>\n",
       "      <th>0</th>\n",
       "      <td>0.917</td>\n",
       "      <td>1970</td>\n",
       "      <td>0.096000</td>\n",
       "      <td>The Velvet Underground</td>\n",
       "      <td>0.624</td>\n",
       "      <td>201440</td>\n",
       "      <td>0.774</td>\n",
       "      <td>0.0</td>\n",
       "      <td>60ZyiL4lmWzZyGfqyECTqp</td>\n",
       "      <td>0.030900</td>\n",
       "      <td>7</td>\n",
       "      <td>0.0960</td>\n",
       "      <td>-10.391</td>\n",
       "      <td>1</td>\n",
       "      <td>Train Round the Bend - 2015 Remaster</td>\n",
       "      <td>24.0</td>\n",
       "      <td>1970</td>\n",
       "      <td>0.0315</td>\n",
       "      <td>117.006</td>\n",
       "      <td>The Velvet Underground - Train Round the Bend ...</td>\n",
       "    </tr>\n",
       "    <tr>\n",
       "      <th>1</th>\n",
       "      <td>0.511</td>\n",
       "      <td>1970</td>\n",
       "      <td>0.001900</td>\n",
       "      <td>Ten Years After</td>\n",
       "      <td>0.405</td>\n",
       "      <td>458463</td>\n",
       "      <td>0.543</td>\n",
       "      <td>0.0</td>\n",
       "      <td>6DYyyUdHzI6RdSx0swUR1i</td>\n",
       "      <td>0.720000</td>\n",
       "      <td>2</td>\n",
       "      <td>0.1860</td>\n",
       "      <td>-9.313</td>\n",
       "      <td>1</td>\n",
       "      <td>Love Like a Man - 2017 Remaster</td>\n",
       "      <td>34.0</td>\n",
       "      <td>1970-04-01</td>\n",
       "      <td>0.029</td>\n",
       "      <td>107.598</td>\n",
       "      <td>Ten Years After - Love Like a Man - 2017 Remaster</td>\n",
       "    </tr>\n",
       "    <tr>\n",
       "      <th>2</th>\n",
       "      <td>0.466</td>\n",
       "      <td>1970</td>\n",
       "      <td>0.052800</td>\n",
       "      <td>The Mothers Of Invention</td>\n",
       "      <td>0.444</td>\n",
       "      <td>105587</td>\n",
       "      <td>0.568</td>\n",
       "      <td>0.0</td>\n",
       "      <td>6HJAS8XZO0ctUcN2KsbLRa</td>\n",
       "      <td>0.000010</td>\n",
       "      <td>11</td>\n",
       "      <td>0.5120</td>\n",
       "      <td>-8.800</td>\n",
       "      <td>0</td>\n",
       "      <td>Oh No</td>\n",
       "      <td>24.0</td>\n",
       "      <td>1970-08-10</td>\n",
       "      <td>0.0327</td>\n",
       "      <td>124.319</td>\n",
       "      <td>The Mothers Of Invention - Oh No</td>\n",
       "    </tr>\n",
       "    <tr>\n",
       "      <th>3</th>\n",
       "      <td>0.523</td>\n",
       "      <td>1970</td>\n",
       "      <td>0.081100</td>\n",
       "      <td>Three Dog Night</td>\n",
       "      <td>0.502</td>\n",
       "      <td>174707</td>\n",
       "      <td>0.669</td>\n",
       "      <td>0.0</td>\n",
       "      <td>7sZ74qmKb1nyGKUgHROJ1n</td>\n",
       "      <td>0.000945</td>\n",
       "      <td>7</td>\n",
       "      <td>0.0906</td>\n",
       "      <td>-11.725</td>\n",
       "      <td>1</td>\n",
       "      <td>One Man Band</td>\n",
       "      <td>19.0</td>\n",
       "      <td>1970-01-01</td>\n",
       "      <td>0.0912</td>\n",
       "      <td>121.089</td>\n",
       "      <td>Three Dog Night - One Man Band</td>\n",
       "    </tr>\n",
       "    <tr>\n",
       "      <th>4</th>\n",
       "      <td>0.501</td>\n",
       "      <td>1970</td>\n",
       "      <td>0.000128</td>\n",
       "      <td>The Rolling Stones</td>\n",
       "      <td>0.273</td>\n",
       "      <td>246413</td>\n",
       "      <td>0.866</td>\n",
       "      <td>0.0</td>\n",
       "      <td>095WtNlSHE8TMB2gQ1fdTx</td>\n",
       "      <td>0.790000</td>\n",
       "      <td>11</td>\n",
       "      <td>0.9610</td>\n",
       "      <td>-7.598</td>\n",
       "      <td>1</td>\n",
       "      <td>Street Fighting Man - Live</td>\n",
       "      <td>25.0</td>\n",
       "      <td>1970-09-04</td>\n",
       "      <td>0.0347</td>\n",
       "      <td>134.891</td>\n",
       "      <td>The Rolling Stones - Street Fighting Man - Live</td>\n",
       "    </tr>\n",
       "  </tbody>\n",
       "</table>\n",
       "</div>"
      ]
     },
     "metadata": {
      "application/vnd.databricks.v1+output": {
       "addedWidgets": {},
       "arguments": {},
       "data": "<div>\n<style scoped>\n    .dataframe tbody tr th:only-of-type {\n        vertical-align: middle;\n    }\n\n    .dataframe tbody tr th {\n        vertical-align: top;\n    }\n\n    .dataframe thead th {\n        text-align: right;\n    }\n</style>\n<table border=\"1\" class=\"dataframe\">\n  <thead>\n    <tr style=\"text-align: right;\">\n      <th></th>\n      <th>valence</th>\n      <th>year</th>\n      <th>acousticness</th>\n      <th>artists</th>\n      <th>danceability</th>\n      <th>duration_ms</th>\n      <th>energy</th>\n      <th>explicit</th>\n      <th>id</th>\n      <th>instrumentalness</th>\n      <th>key</th>\n      <th>liveness</th>\n      <th>loudness</th>\n      <th>mode</th>\n      <th>name</th>\n      <th>popularity</th>\n      <th>release_date</th>\n      <th>speechiness</th>\n      <th>tempo</th>\n      <th>artists_song</th>\n    </tr>\n  </thead>\n  <tbody>\n    <tr>\n      <th>0</th>\n      <td>0.917</td>\n      <td>1970</td>\n      <td>0.096000</td>\n      <td>The Velvet Underground</td>\n      <td>0.624</td>\n      <td>201440</td>\n      <td>0.774</td>\n      <td>0.0</td>\n      <td>60ZyiL4lmWzZyGfqyECTqp</td>\n      <td>0.030900</td>\n      <td>7</td>\n      <td>0.0960</td>\n      <td>-10.391</td>\n      <td>1</td>\n      <td>Train Round the Bend - 2015 Remaster</td>\n      <td>24.0</td>\n      <td>1970</td>\n      <td>0.0315</td>\n      <td>117.006</td>\n      <td>The Velvet Underground - Train Round the Bend ...</td>\n    </tr>\n    <tr>\n      <th>1</th>\n      <td>0.511</td>\n      <td>1970</td>\n      <td>0.001900</td>\n      <td>Ten Years After</td>\n      <td>0.405</td>\n      <td>458463</td>\n      <td>0.543</td>\n      <td>0.0</td>\n      <td>6DYyyUdHzI6RdSx0swUR1i</td>\n      <td>0.720000</td>\n      <td>2</td>\n      <td>0.1860</td>\n      <td>-9.313</td>\n      <td>1</td>\n      <td>Love Like a Man - 2017 Remaster</td>\n      <td>34.0</td>\n      <td>1970-04-01</td>\n      <td>0.029</td>\n      <td>107.598</td>\n      <td>Ten Years After - Love Like a Man - 2017 Remaster</td>\n    </tr>\n    <tr>\n      <th>2</th>\n      <td>0.466</td>\n      <td>1970</td>\n      <td>0.052800</td>\n      <td>The Mothers Of Invention</td>\n      <td>0.444</td>\n      <td>105587</td>\n      <td>0.568</td>\n      <td>0.0</td>\n      <td>6HJAS8XZO0ctUcN2KsbLRa</td>\n      <td>0.000010</td>\n      <td>11</td>\n      <td>0.5120</td>\n      <td>-8.800</td>\n      <td>0</td>\n      <td>Oh No</td>\n      <td>24.0</td>\n      <td>1970-08-10</td>\n      <td>0.0327</td>\n      <td>124.319</td>\n      <td>The Mothers Of Invention - Oh No</td>\n    </tr>\n    <tr>\n      <th>3</th>\n      <td>0.523</td>\n      <td>1970</td>\n      <td>0.081100</td>\n      <td>Three Dog Night</td>\n      <td>0.502</td>\n      <td>174707</td>\n      <td>0.669</td>\n      <td>0.0</td>\n      <td>7sZ74qmKb1nyGKUgHROJ1n</td>\n      <td>0.000945</td>\n      <td>7</td>\n      <td>0.0906</td>\n      <td>-11.725</td>\n      <td>1</td>\n      <td>One Man Band</td>\n      <td>19.0</td>\n      <td>1970-01-01</td>\n      <td>0.0912</td>\n      <td>121.089</td>\n      <td>Three Dog Night - One Man Band</td>\n    </tr>\n    <tr>\n      <th>4</th>\n      <td>0.501</td>\n      <td>1970</td>\n      <td>0.000128</td>\n      <td>The Rolling Stones</td>\n      <td>0.273</td>\n      <td>246413</td>\n      <td>0.866</td>\n      <td>0.0</td>\n      <td>095WtNlSHE8TMB2gQ1fdTx</td>\n      <td>0.790000</td>\n      <td>11</td>\n      <td>0.9610</td>\n      <td>-7.598</td>\n      <td>1</td>\n      <td>Street Fighting Man - Live</td>\n      <td>25.0</td>\n      <td>1970-09-04</td>\n      <td>0.0347</td>\n      <td>134.891</td>\n      <td>The Rolling Stones - Street Fighting Man - Live</td>\n    </tr>\n  </tbody>\n</table>\n</div>",
       "datasetInfos": [],
       "metadata": {},
       "removedWidgets": [],
       "textData": null,
       "type": "htmlSandbox"
      }
     },
     "output_type": "display_data"
    }
   ],
   "source": [
    "df_data.head(5)"
   ]
  },
  {
   "cell_type": "markdown",
   "metadata": {
    "application/vnd.databricks.v1+cell": {
     "cellMetadata": {
      "byteLimit": 2048000,
      "rowLimit": 10000
     },
     "inputWidgets": {},
     "nuid": "605e12bd-77dd-4265-891c-4ff51ed9a498",
     "showTitle": false,
     "title": ""
    }
   },
   "source": [
    "\n",
    "####Removendo as colunas de texto"
   ]
  },
  {
   "cell_type": "code",
   "execution_count": 0,
   "metadata": {
    "application/vnd.databricks.v1+cell": {
     "cellMetadata": {
      "byteLimit": 2048000,
      "rowLimit": 10000
     },
     "inputWidgets": {},
     "nuid": "2d0ce479-2ab5-46e7-bab7-23841d388e3e",
     "showTitle": false,
     "title": ""
    }
   },
   "outputs": [
    {
     "output_type": "stream",
     "name": "stdout",
     "output_type": "stream",
     "text": [
      "<class 'pyspark.pandas.frame.DataFrame'>\nInt64Index: 169300 entries, 0 to 170652\nData columns (total 20 columns):\n #   Column            Non-Null Count   Dtype  \n---  ------            --------------   -----  \n 0   valence           169300 non-null  float64\n 1   year              169300 non-null  int32  \n 2   acousticness      169300 non-null  float64\n 3   artists           169300 non-null  object \n 4   danceability      169300 non-null  float64\n 5   duration_ms       169300 non-null  int64  \n 6   energy            169300 non-null  float64\n 7   explicit          169300 non-null  float64\n 8   id                169300 non-null  object \n 9   instrumentalness  169300 non-null  float64\n 10  key               169300 non-null  int64  \n 11  liveness          169300 non-null  float64\n 12  loudness          169300 non-null  float64\n 13  mode              169300 non-null  int64  \n 14  name              169300 non-null  object \n 15  popularity        169300 non-null  float64\n 16  release_date      169300 non-null  object \n 17  speechiness       169300 non-null  object \n 18  tempo             169300 non-null  float64\n 19  artists_song      169300 non-null  object \ndtypes: float64(10), int32(1), int64(3), object(6)"
     ]
    }
   ],
   "source": [
    "df_data.info()"
   ]
  },
  {
   "cell_type": "code",
   "execution_count": 0,
   "metadata": {
    "application/vnd.databricks.v1+cell": {
     "cellMetadata": {
      "byteLimit": 2048000,
      "rowLimit": 10000
     },
     "inputWidgets": {},
     "nuid": "719a9113-0dc3-4d2d-9870-94ff7f7318c1",
     "showTitle": false,
     "title": ""
    }
   },
   "outputs": [
    {
     "output_type": "stream",
     "name": "stdout",
     "output_type": "stream",
     "text": [
      "Out[9]: ['valence',\n 'year',\n 'acousticness',\n 'danceability',\n 'duration_ms',\n 'energy',\n 'explicit',\n 'instrumentalness',\n 'key',\n 'liveness',\n 'loudness',\n 'mode',\n 'popularity',\n 'speechiness',\n 'tempo']"
     ]
    }
   ],
   "source": [
    "X = df_data.columns.to_list()\n",
    "X.remove('artists')\n",
    "X.remove('id')\n",
    "X.remove('name')\n",
    "X.remove('artists_song')\n",
    "X.remove('release_date')\n",
    "X"
   ]
  },
  {
   "cell_type": "markdown",
   "metadata": {
    "application/vnd.databricks.v1+cell": {
     "cellMetadata": {
      "byteLimit": 2048000,
      "rowLimit": 10000
     },
     "inputWidgets": {},
     "nuid": "fa6d30f8-2e09-4a02-af9a-8091648594ae",
     "showTitle": false,
     "title": ""
    }
   },
   "source": [
    "\n",
    "#### Transformando o Dataframe \n",
    "######Transformação do objeto, que era um dataframe Pandas, para um sql.dataframe, que será compatível com o módulo de MLlib."
   ]
  },
  {
   "cell_type": "code",
   "execution_count": 0,
   "metadata": {
    "application/vnd.databricks.v1+cell": {
     "cellMetadata": {
      "byteLimit": 2048000,
      "rowLimit": 10000
     },
     "inputWidgets": {},
     "nuid": "b82b6d94-a98f-4451-8feb-21fda57fbfae",
     "showTitle": false,
     "title": ""
    }
   },
   "outputs": [],
   "source": [
    "df_data = df_data.to_spark()"
   ]
  },
  {
   "cell_type": "markdown",
   "metadata": {
    "application/vnd.databricks.v1+cell": {
     "cellMetadata": {
      "byteLimit": 2048000,
      "rowLimit": 10000
     },
     "inputWidgets": {},
     "nuid": "17fd3357-a698-47a9-b2bd-4904ed16dbd4",
     "showTitle": false,
     "title": ""
    }
   },
   "source": [
    "\n",
    "####Vetorizando os dados\n",
    "#####VectorAssembler"
   ]
  },
  {
   "cell_type": "code",
   "execution_count": 0,
   "metadata": {
    "application/vnd.databricks.v1+cell": {
     "cellMetadata": {
      "byteLimit": 2048000,
      "rowLimit": 10000
     },
     "inputWidgets": {},
     "nuid": "dba702df-ac8b-4478-b743-f448b1a157d6",
     "showTitle": false,
     "title": ""
    }
   },
   "outputs": [],
   "source": [
    "from pyspark.ml.feature import VectorAssembler, StringIndexer\n",
    "from pyspark.ml import Pipeline"
   ]
  },
  {
   "cell_type": "code",
   "execution_count": 0,
   "metadata": {
    "application/vnd.databricks.v1+cell": {
     "cellMetadata": {
      "byteLimit": 2048000,
      "rowLimit": 10000
     },
     "inputWidgets": {},
     "nuid": "ddb37add-45e9-4c14-9c4c-628bb4dcb944",
     "showTitle": false,
     "title": ""
    }
   },
   "outputs": [],
   "source": [
    "from pyspark.sql.functions import col\n",
    "from pyspark.sql.types import FloatType\n",
    "\n",
    "# Supondo que 'speechiness' é a única coluna do tipo string\n",
    "df_data = df_data.withColumn('speechiness', col('speechiness').cast(FloatType()))\n",
    "\n",
    "# Agora, use o VectorAssembler\n",
    "dados_encoded_vector = VectorAssembler(inputCols=X + ['speechiness'], outputCol='features').transform(df_data)"
   ]
  },
  {
   "cell_type": "code",
   "execution_count": 0,
   "metadata": {
    "application/vnd.databricks.v1+cell": {
     "cellMetadata": {
      "byteLimit": 2048000,
      "rowLimit": 10000
     },
     "inputWidgets": {},
     "nuid": "30e61d27-d893-4ead-b3ce-abd36f858e31",
     "showTitle": false,
     "title": ""
    }
   },
   "outputs": [],
   "source": [
    "dados_encoded_vector = VectorAssembler(inputCols=X, outputCol='features').transform(df_data)"
   ]
  },
  {
   "cell_type": "code",
   "execution_count": 0,
   "metadata": {
    "application/vnd.databricks.v1+cell": {
     "cellMetadata": {
      "byteLimit": 2048000,
      "rowLimit": 10000
     },
     "inputWidgets": {},
     "nuid": "d2b9d276-04b8-4ae9-a5fe-1f09cd50d571",
     "showTitle": false,
     "title": ""
    }
   },
   "outputs": [
    {
     "output_type": "stream",
     "name": "stdout",
     "output_type": "stream",
     "text": [
      "+-------------------------------------------------------------------------------------------------------------------------------------+\n|features                                                                                                                             |\n+-------------------------------------------------------------------------------------------------------------------------------------+\n|[0.917,1970.0,0.096,0.624,201440.0,0.774,0.0,0.0309,7.0,0.096,-10.390999999999998,1.0,24.0,0.03150000050663948,117.006]              |\n|[0.511,1970.0,0.0019,0.405,458463.0,0.5429999999999999,0.0,0.72,2.0,0.18600000000000005,-9.313,1.0,34.0,0.028999999165534973,107.598]|\n|[0.466,1970.0,0.0528,0.444,105587.0,0.568,0.0,1.02E-5,11.0,0.512,-8.8,0.0,24.0,0.03269999846816063,124.319]                          |\n|[0.523,1970.0,0.0811,0.502,174707.0,0.669,0.0,9.45E-4,7.0,0.0906,-11.725,1.0,19.0,0.09120000153779984,121.089]                       |\n|[0.501,1970.0,1.28E-4,0.273,246413.0,0.866,0.0,0.79,11.0,0.961,-7.598,1.0,25.0,0.034699998795986176,134.891]                         |\n+-------------------------------------------------------------------------------------------------------------------------------------+\nonly showing top 5 rows\n\n"
     ]
    }
   ],
   "source": [
    "dados_encoded_vector.select('features').show(truncate=False, n=5)"
   ]
  },
  {
   "cell_type": "code",
   "execution_count": 0,
   "metadata": {
    "application/vnd.databricks.v1+cell": {
     "cellMetadata": {
      "byteLimit": 2048000,
      "rowLimit": 10000
     },
     "inputWidgets": {},
     "nuid": "f9fce0d7-b74c-4b5d-9f55-0a109e38b7d7",
     "showTitle": false,
     "title": ""
    }
   },
   "outputs": [],
   "source": [
    "from pyspark.ml.feature import StandardScaler"
   ]
  },
  {
   "cell_type": "code",
   "execution_count": 0,
   "metadata": {
    "application/vnd.databricks.v1+cell": {
     "cellMetadata": {
      "byteLimit": 2048000,
      "rowLimit": 10000
     },
     "inputWidgets": {},
     "nuid": "ceda3e55-e62d-42da-b508-41bdabe413cc",
     "showTitle": false,
     "title": ""
    }
   },
   "outputs": [],
   "source": [
    "scaler = StandardScaler(inputCol='features', outputCol='features_scaled')\n",
    "model_scaler = scaler.fit(dados_encoded_vector)\n",
    "dados_musicas_scaler = model_scaler.transform(dados_encoded_vector)"
   ]
  },
  {
   "cell_type": "code",
   "execution_count": 0,
   "metadata": {
    "application/vnd.databricks.v1+cell": {
     "cellMetadata": {
      "byteLimit": 2048000,
      "rowLimit": 10000
     },
     "inputWidgets": {},
     "nuid": "cb4ac82c-45f6-4f07-ab02-56419d9861a6",
     "showTitle": false,
     "title": ""
    }
   },
   "outputs": [
    {
     "output_type": "stream",
     "name": "stdout",
     "output_type": "stream",
     "text": [
      "+------------------------------------------------------------------------------------------------------------------------------------------------------------------------------------------------------------------------------------------------------------------------------+\n|features_scaled                                                                                                                                                                                                                                                               |\n+------------------------------------------------------------------------------------------------------------------------------------------------------------------------------------------------------------------------------------------------------------------------------+\n|[3.493845627581973,76.01945247914719,0.25560097373899326,3.553867728626555,1.6031732036099804,2.8949505209817366,0.0,0.09859458986370954,1.9913197029800866,0.5493560155028588,-1.830035407373086,2.196568823329722,1.1017086567137089,0.1931909620628096,3.8127775722269495] |\n|[1.9469521436143817,76.01945247914719,0.0050587692719175755,2.306596843098966,3.648707289747034,2.0309536600685822,0.0,2.2973496667272126,0.568948486565739,1.0643772800367892,-1.6401809016327162,2.196568823329722,1.560753930344421,0.17785833804762924,3.5062068715832977]|\n|[1.7754984323371859,76.01945247914719,0.1405805355564463,2.528713576138126,0.8403209345192961,2.124459813847062,0.0,3.254578694530218E-5,3.1292166761115645,2.92989874934858,-1.5498326999213896,0.0,1.1017086567137089,0.20055060513998407,4.05108024376256]                 |\n|[1.9926731332883008,76.01945247914719,0.21592957260658704,2.859041025273286,1.39041690271589,2.5022246751121213,0.0,0.0030152714375794665,1.9913197029800866,0.518454739630823,-2.064975955292988,2.196568823329722,0.8721860198983529,0.5593338334551321,3.9458269101019527] |\n|[1.908851318886116,76.01945247914719,3.408012983186577E-4,1.554817131274118,1.9610937183337278,3.2390531668865425,0.0,2.5207031065479137,3.1292166761115645,5.499282613523409,-1.338139642500309,2.196568823329722,1.14761318407678,0.21281669978265277,4.395581247929726]    |\n+------------------------------------------------------------------------------------------------------------------------------------------------------------------------------------------------------------------------------------------------------------------------------+\nonly showing top 5 rows\n\n"
     ]
    }
   ],
   "source": [
    "dados_musicas_scaler.select('features_scaled').show(truncate=False, n=5)"
   ]
  },
  {
   "cell_type": "code",
   "execution_count": 0,
   "metadata": {
    "application/vnd.databricks.v1+cell": {
     "cellMetadata": {
      "byteLimit": 2048000,
      "rowLimit": 10000
     },
     "inputWidgets": {},
     "nuid": "32ca3271-dfc0-414a-8ce3-37413401fbac",
     "showTitle": false,
     "title": ""
    }
   },
   "outputs": [
    {
     "output_type": "stream",
     "name": "stdout",
     "output_type": "stream",
     "text": [
      "Out[18]: 15"
     ]
    }
   ],
   "source": [
    "k = len(X)\n",
    "k"
   ]
  },
  {
   "cell_type": "markdown",
   "metadata": {
    "application/vnd.databricks.v1+cell": {
     "cellMetadata": {
      "byteLimit": 2048000,
      "rowLimit": 10000
     },
     "inputWidgets": {},
     "nuid": "4a36b9ce-0a8e-409e-91ee-2c7af96ae77f",
     "showTitle": false,
     "title": ""
    }
   },
   "source": [
    "\n",
    "####Técnica PCA"
   ]
  },
  {
   "cell_type": "code",
   "execution_count": 0,
   "metadata": {
    "application/vnd.databricks.v1+cell": {
     "cellMetadata": {
      "byteLimit": 2048000,
      "rowLimit": 10000
     },
     "inputWidgets": {},
     "nuid": "989c2dfe-141e-41bc-9f17-8d90a983538e",
     "showTitle": false,
     "title": ""
    }
   },
   "outputs": [],
   "source": [
    "from pyspark.ml.feature import PCA"
   ]
  },
  {
   "cell_type": "code",
   "execution_count": 0,
   "metadata": {
    "application/vnd.databricks.v1+cell": {
     "cellMetadata": {
      "byteLimit": 2048000,
      "rowLimit": 10000
     },
     "inputWidgets": {},
     "nuid": "d401fa1e-73a4-411d-b06b-2ee67a15c2c4",
     "showTitle": false,
     "title": ""
    }
   },
   "outputs": [],
   "source": [
    "pca = PCA(k=k, inputCol='features_scaled', outputCol='pca_features')\n",
    "model_pca = pca.fit(dados_musicas_scaler)\n",
    "dados_musicas_pca = model_pca.transform(dados_musicas_scaler)"
   ]
  },
  {
   "cell_type": "code",
   "execution_count": 0,
   "metadata": {
    "application/vnd.databricks.v1+cell": {
     "cellMetadata": {
      "byteLimit": 2048000,
      "rowLimit": 10000
     },
     "inputWidgets": {},
     "nuid": "7cfb96aa-8bbf-4083-ada3-ad59af0760f5",
     "showTitle": false,
     "title": ""
    }
   },
   "outputs": [
    {
     "output_type": "stream",
     "name": "stdout",
     "output_type": "stream",
     "text": [
      "Out[21]: DenseVector([0.2656, 0.1207, 0.095, 0.0785, 0.0743, 0.0627, 0.0611, 0.0561, 0.05, 0.0418, 0.0342, 0.0227, 0.0203, 0.0089, 0.008])"
     ]
    }
   ],
   "source": [
    "model_pca.explainedVariance"
   ]
  },
  {
   "cell_type": "code",
   "execution_count": 0,
   "metadata": {
    "application/vnd.databricks.v1+cell": {
     "cellMetadata": {
      "byteLimit": 2048000,
      "rowLimit": 10000
     },
     "inputWidgets": {},
     "nuid": "9dba2145-8b32-4676-9006-b5f85fd8a246",
     "showTitle": false,
     "title": ""
    }
   },
   "outputs": [
    {
     "output_type": "stream",
     "name": "stdout",
     "output_type": "stream",
     "text": [
      "Out[22]: 100.0"
     ]
    }
   ],
   "source": [
    "sum(model_pca.explainedVariance) * 100"
   ]
  },
  {
   "cell_type": "code",
   "execution_count": 0,
   "metadata": {
    "application/vnd.databricks.v1+cell": {
     "cellMetadata": {
      "byteLimit": 2048000,
      "rowLimit": 10000
     },
     "inputWidgets": {},
     "nuid": "dbc0c9cd-f214-4256-b337-30e5cc8d68c8",
     "showTitle": false,
     "title": ""
    }
   },
   "outputs": [
    {
     "output_type": "stream",
     "name": "stdout",
     "output_type": "stream",
     "text": [
      "Out[23]: [0.2655954620156158,\n 0.3863399556757634,\n 0.4813130666569494,\n 0.5598342425312607,\n 0.6341616245853019,\n 0.6968259227157527,\n 0.7579363400205441,\n 0.8140504754909311,\n 0.8640376949859832,\n 0.9058308612590468,\n 0.9400513661517839,\n 0.9627442126893356,\n 0.9830935482321609,\n 0.9919540017170755,\n 1.0]"
     ]
    }
   ],
   "source": [
    "lista_valores = [sum(model_pca.explainedVariance[0:i+1]) for i in range(k)]\n",
    "lista_valores"
   ]
  },
  {
   "cell_type": "code",
   "execution_count": 0,
   "metadata": {
    "application/vnd.databricks.v1+cell": {
     "cellMetadata": {
      "byteLimit": 2048000,
      "rowLimit": 10000
     },
     "inputWidgets": {},
     "nuid": "9a2e7d17-1bbc-4b29-a3dd-4cc8263b7133",
     "showTitle": false,
     "title": ""
    }
   },
   "outputs": [],
   "source": [
    "import numpy as np"
   ]
  },
  {
   "cell_type": "code",
   "execution_count": 0,
   "metadata": {
    "application/vnd.databricks.v1+cell": {
     "cellMetadata": {
      "byteLimit": 2048000,
      "rowLimit": 10000
     },
     "inputWidgets": {},
     "nuid": "ddab659d-0c71-4f94-9f5a-4d78f423d1c1",
     "showTitle": false,
     "title": ""
    }
   },
   "outputs": [
    {
     "output_type": "stream",
     "name": "stdout",
     "output_type": "stream",
     "text": [
      "Out[25]: 6"
     ]
    }
   ],
   "source": [
    "k = sum(np.array(lista_valores) <= 0.7)\n",
    "k"
   ]
  },
  {
   "cell_type": "code",
   "execution_count": 0,
   "metadata": {
    "application/vnd.databricks.v1+cell": {
     "cellMetadata": {
      "byteLimit": 2048000,
      "rowLimit": 10000
     },
     "inputWidgets": {},
     "nuid": "66b56f3c-22a5-4eac-b2ba-34cc720fc226",
     "showTitle": false,
     "title": ""
    }
   },
   "outputs": [],
   "source": [
    "pca = PCA(k=k, inputCol='features_scaled', outputCol='pca_features')\n",
    "model_pca = pca.fit(dados_musicas_scaler)\n",
    "dados_musicas_pca = model_pca.transform(dados_musicas_scaler)"
   ]
  },
  {
   "cell_type": "code",
   "execution_count": 0,
   "metadata": {
    "application/vnd.databricks.v1+cell": {
     "cellMetadata": {
      "byteLimit": 2048000,
      "rowLimit": 10000
     },
     "inputWidgets": {},
     "nuid": "2f0451fb-85f2-453f-9416-418d65b48596",
     "showTitle": false,
     "title": ""
    }
   },
   "outputs": [
    {
     "output_type": "stream",
     "name": "stdout",
     "output_type": "stream",
     "text": [
      "+----------------------------------------------------------------------------------------------------------------------+\n|pca_features                                                                                                          |\n+----------------------------------------------------------------------------------------------------------------------+\n|[-32.31725372393442,-18.925010131047706,10.927714290109332,-14.569692108178677,-3.181740350238244,4.244071964501216]  |\n|[-31.132818221753105,-21.342304869434574,12.38375967918923,-13.755472801416968,-3.8902954614006173,3.4409220900009734]|\n|[-31.78064916271356,-19.569645669213205,12.54111461417207,-12.785799962802823,-1.5971144303909064,4.985715881880373]  |\n|[-31.60584489293679,-19.54798585926499,11.833448206537057,-14.450217736860793,-3.507001916670246,4.949717265509104]   |\n|[-31.594059088964638,-20.74176823026046,12.37978992678319,-9.883622641830373,-2.659184405622477,4.548614977610807]    |\n+----------------------------------------------------------------------------------------------------------------------+\nonly showing top 5 rows\n\n"
     ]
    }
   ],
   "source": [
    "dados_musicas_pca.select('pca_features').show(truncate=False, n=5)"
   ]
  },
  {
   "cell_type": "markdown",
   "metadata": {
    "application/vnd.databricks.v1+cell": {
     "cellMetadata": {
      "byteLimit": 2048000,
      "rowLimit": 10000
     },
     "inputWidgets": {},
     "nuid": "c2090584-4682-4966-a058-cddedd74bf3a",
     "showTitle": false,
     "title": ""
    }
   },
   "source": [
    "\n",
    "####Criando o pipeline"
   ]
  },
  {
   "cell_type": "code",
   "execution_count": 0,
   "metadata": {
    "application/vnd.databricks.v1+cell": {
     "cellMetadata": {
      "byteLimit": 2048000,
      "rowLimit": 10000
     },
     "inputWidgets": {},
     "nuid": "b623bf9d-6fef-4b55-a270-340eb2a29bcf",
     "showTitle": false,
     "title": ""
    }
   },
   "outputs": [],
   "source": [
    "from pyspark.ml import Pipeline"
   ]
  },
  {
   "cell_type": "code",
   "execution_count": 0,
   "metadata": {
    "application/vnd.databricks.v1+cell": {
     "cellMetadata": {
      "byteLimit": 2048000,
      "rowLimit": 10000
     },
     "inputWidgets": {},
     "nuid": "faa9fee6-5f02-4932-9966-9c5f44c2e948",
     "showTitle": false,
     "title": ""
    }
   },
   "outputs": [],
   "source": [
    "pca_pipeline = Pipeline(stages=[VectorAssembler(inputCols=X, outputCol='features'),\n",
    "                                StandardScaler(inputCol='features', outputCol='features_scaled'),\n",
    "                                PCA(k=6, inputCol='features_scaled', outputCol='pca_features')])"
   ]
  },
  {
   "cell_type": "code",
   "execution_count": 0,
   "metadata": {
    "application/vnd.databricks.v1+cell": {
     "cellMetadata": {
      "byteLimit": 2048000,
      "rowLimit": 10000
     },
     "inputWidgets": {},
     "nuid": "4ccdab40-b0e8-4d77-a66c-100071d65391",
     "showTitle": false,
     "title": ""
    }
   },
   "outputs": [],
   "source": [
    "model_pca_pipeline = pca_pipeline.fit(df_data)"
   ]
  },
  {
   "cell_type": "code",
   "execution_count": 0,
   "metadata": {
    "application/vnd.databricks.v1+cell": {
     "cellMetadata": {
      "byteLimit": 2048000,
      "rowLimit": 10000
     },
     "inputWidgets": {},
     "nuid": "fa996368-5c37-46de-a72d-a8f30d397613",
     "showTitle": false,
     "title": ""
    }
   },
   "outputs": [],
   "source": [
    "projection = model_pca_pipeline.transform(df_data)"
   ]
  },
  {
   "cell_type": "code",
   "execution_count": 0,
   "metadata": {
    "application/vnd.databricks.v1+cell": {
     "cellMetadata": {
      "byteLimit": 2048000,
      "rowLimit": 10000
     },
     "inputWidgets": {},
     "nuid": "cb301933-459e-4cdc-b3d0-e794e9a98dca",
     "showTitle": false,
     "title": ""
    }
   },
   "outputs": [
    {
     "output_type": "stream",
     "name": "stdout",
     "output_type": "stream",
     "text": [
      "+----------------------------------------------------------------------------------------------------------------------+\n|pca_features                                                                                                          |\n+----------------------------------------------------------------------------------------------------------------------+\n|[-32.31725372393442,-18.925010131047706,10.927714290109332,-14.569692108178677,-3.181740350238244,4.244071964501216]  |\n|[-31.132818221753105,-21.342304869434574,12.38375967918923,-13.755472801416968,-3.8902954614006173,3.4409220900009734]|\n|[-31.78064916271356,-19.569645669213205,12.54111461417207,-12.785799962802823,-1.5971144303909064,4.985715881880373]  |\n|[-31.60584489293679,-19.54798585926499,11.833448206537057,-14.450217736860793,-3.507001916670246,4.949717265509104]   |\n|[-31.594059088964638,-20.74176823026046,12.37978992678319,-9.883622641830373,-2.659184405622477,4.548614977610807]    |\n+----------------------------------------------------------------------------------------------------------------------+\nonly showing top 5 rows\n\n"
     ]
    }
   ],
   "source": [
    "projection.select('pca_features').show(truncate=False, n=5)"
   ]
  },
  {
   "cell_type": "markdown",
   "metadata": {
    "application/vnd.databricks.v1+cell": {
     "cellMetadata": {
      "byteLimit": 2048000,
      "rowLimit": 10000
     },
     "inputWidgets": {},
     "nuid": "342a9d14-a66b-4d12-bbe9-1b0cf2fcd05c",
     "showTitle": false,
     "title": ""
    }
   },
   "source": [
    "\n",
    "####Utilizando o algoritmo K-means"
   ]
  },
  {
   "cell_type": "code",
   "execution_count": 0,
   "metadata": {
    "application/vnd.databricks.v1+cell": {
     "cellMetadata": {
      "byteLimit": 2048000,
      "rowLimit": 10000
     },
     "inputWidgets": {},
     "nuid": "b1791a38-64d8-4409-8516-7bcfdfb8d504",
     "showTitle": false,
     "title": ""
    }
   },
   "outputs": [],
   "source": [
    "from pyspark.ml.clustering import KMeans"
   ]
  },
  {
   "cell_type": "code",
   "execution_count": 0,
   "metadata": {
    "application/vnd.databricks.v1+cell": {
     "cellMetadata": {
      "byteLimit": 2048000,
      "rowLimit": 10000
     },
     "inputWidgets": {},
     "nuid": "c160bec5-22dd-423d-94aa-a1d4eadb3f6d",
     "showTitle": false,
     "title": ""
    }
   },
   "outputs": [],
   "source": [
    "SEED = 1224"
   ]
  },
  {
   "cell_type": "code",
   "execution_count": 0,
   "metadata": {
    "application/vnd.databricks.v1+cell": {
     "cellMetadata": {
      "byteLimit": 2048000,
      "rowLimit": 10000
     },
     "inputWidgets": {},
     "nuid": "c8fb7ecb-61ec-4803-9aeb-0650aa73de4f",
     "showTitle": false,
     "title": ""
    }
   },
   "outputs": [],
   "source": [
    "kmeans = KMeans(k=50, featuresCol='pca_features', predictionCol='cluster_pca', seed=SEED)"
   ]
  },
  {
   "cell_type": "code",
   "execution_count": 0,
   "metadata": {
    "application/vnd.databricks.v1+cell": {
     "cellMetadata": {
      "byteLimit": 2048000,
      "rowLimit": 10000
     },
     "inputWidgets": {},
     "nuid": "7b97350a-431c-421b-a684-06ff9949047f",
     "showTitle": false,
     "title": ""
    }
   },
   "outputs": [],
   "source": [
    "modelo_kmeans = kmeans.fit(projection)"
   ]
  },
  {
   "cell_type": "code",
   "execution_count": 0,
   "metadata": {
    "application/vnd.databricks.v1+cell": {
     "cellMetadata": {
      "byteLimit": 2048000,
      "rowLimit": 10000
     },
     "inputWidgets": {},
     "nuid": "75c1b33a-255e-423c-ae5b-d262041cca69",
     "showTitle": false,
     "title": ""
    }
   },
   "outputs": [],
   "source": [
    "projetion_kmeans = modelo_kmeans.transform(projection)"
   ]
  },
  {
   "cell_type": "code",
   "execution_count": 0,
   "metadata": {
    "application/vnd.databricks.v1+cell": {
     "cellMetadata": {
      "byteLimit": 2048000,
      "rowLimit": 10000
     },
     "inputWidgets": {},
     "nuid": "879691c1-e8a5-4862-9bc9-fa694adc6b26",
     "showTitle": false,
     "title": ""
    }
   },
   "outputs": [
    {
     "output_type": "stream",
     "name": "stdout",
     "output_type": "stream",
     "text": [
      "+--------------------+-----------+\n|        pca_features|cluster_pca|\n+--------------------+-----------+\n|[-32.317253723934...|         31|\n|[-31.132818221753...|         21|\n|[-31.780649162713...|          9|\n|[-31.605844892936...|         31|\n|[-31.594059088964...|         43|\n|[-31.938780024298...|         13|\n|[-29.686935486050...|         47|\n|[-31.539167346606...|         32|\n|[-30.771547827713...|         17|\n|[-29.965130076440...|         19|\n|[-31.131053018481...|         31|\n|[-31.266813769559...|         31|\n|[-31.446803723117...|         31|\n|[-29.943208559465...|          4|\n|[-29.853371939303...|         14|\n|[-31.758364290874...|         31|\n|[-30.549983241729...|          2|\n|[-29.347404415363...|         42|\n|[-31.337850883835...|         31|\n|[-32.659644073786...|         45|\n+--------------------+-----------+\nonly showing top 20 rows\n\n"
     ]
    }
   ],
   "source": [
    "projetion_kmeans.select(['pca_features','cluster_pca']).show()"
   ]
  },
  {
   "cell_type": "markdown",
   "metadata": {
    "application/vnd.databricks.v1+cell": {
     "cellMetadata": {
      "byteLimit": 2048000,
      "rowLimit": 10000
     },
     "inputWidgets": {},
     "nuid": "6d94650c-e6ca-49d0-a095-e26e14040063",
     "showTitle": false,
     "title": ""
    }
   },
   "source": [
    "\n",
    "####Transformar vetor em lista."
   ]
  },
  {
   "cell_type": "code",
   "execution_count": 0,
   "metadata": {
    "application/vnd.databricks.v1+cell": {
     "cellMetadata": {
      "byteLimit": 2048000,
      "rowLimit": 10000
     },
     "inputWidgets": {},
     "nuid": "7c6a4480-05fd-4227-a9c7-5b872dac8a73",
     "showTitle": false,
     "title": ""
    }
   },
   "outputs": [],
   "source": [
    "from pyspark.ml.functions import vector_to_array"
   ]
  },
  {
   "cell_type": "code",
   "execution_count": 0,
   "metadata": {
    "application/vnd.databricks.v1+cell": {
     "cellMetadata": {
      "byteLimit": 2048000,
      "rowLimit": 10000
     },
     "inputWidgets": {},
     "nuid": "26718026-67cb-48a3-be50-8e3a3dd37d54",
     "showTitle": false,
     "title": ""
    }
   },
   "outputs": [],
   "source": [
    "projetion_kmeans = projetion_kmeans.withColumn('x', vector_to_array('pca_features')[0])\\\n",
    "                                   .withColumn('y', vector_to_array('pca_features')[1])"
   ]
  },
  {
   "cell_type": "code",
   "execution_count": 0,
   "metadata": {
    "application/vnd.databricks.v1+cell": {
     "cellMetadata": {
      "byteLimit": 2048000,
      "rowLimit": 10000
     },
     "inputWidgets": {},
     "nuid": "4255c30b-8d11-4d6f-86aa-1baffaf2468d",
     "showTitle": false,
     "title": ""
    }
   },
   "outputs": [
    {
     "output_type": "stream",
     "name": "stdout",
     "output_type": "stream",
     "text": [
      "+-------------------+-------------------+-----------+--------------------+\n|                  x|                  y|cluster_pca|        artists_song|\n+-------------------+-------------------+-----------+--------------------+\n| -32.31725372393442|-18.925010131047706|         31|The Velvet Underg...|\n|-31.132818221753105|-21.342304869434574|         21|Ten Years After -...|\n| -31.78064916271356|-19.569645669213205|          9|The Mothers Of In...|\n| -31.60584489293679| -19.54798585926499|         31|Three Dog Night -...|\n|-31.594059088964638| -20.74176823026046|         43|The Rolling Stone...|\n|-31.938780024298687|-18.641276557738895|         13|Sly & The Family ...|\n| -29.68693548605023|-21.433187567959102|         47|William S. Fische...|\n| -31.53916734660658|-20.172532238829984|         32|Yusuf / Cat Steve...|\n|-30.771547827713878|  -19.7783009754889|         17|The Meters - Oh, ...|\n| -29.96513007644016|  -20.2500877910004|         19|Linda Ronstadt - ...|\n|-31.131053018481346|-19.027919629853486|         31|Van Morrison - In...|\n|-31.266813769559587|-19.169660790341226|         31|Johnny Cash - Sou...|\n|-31.446803723117263| -18.99213148898379|         31|James Gang - Ther...|\n|-29.943208559465464| -19.27762389880801|          4|Paul McCartney - ...|\n|-29.853371939303738|-19.347323630258806|         14|Kris Kristofferso...|\n| -31.75836429087484| -19.48649026782964|         31|Stevie Wonder - N...|\n|-30.549983241729233| -19.34902466521511|          2|Elton John - Take...|\n| -29.34740441536315|-20.587602134290805|         42|The Guess Who - T...|\n| -31.33785088383592| -19.23043760695888|         31|John Denver - Car...|\n| -32.65964407378624|-19.455070030449075|         45|Doris Troy - Ain'...|\n+-------------------+-------------------+-----------+--------------------+\nonly showing top 20 rows\n\n"
     ]
    }
   ],
   "source": [
    "projetion_kmeans.select(['x', 'y', 'cluster_pca', 'artists_song']).show()"
   ]
  },
  {
   "cell_type": "markdown",
   "metadata": {
    "application/vnd.databricks.v1+cell": {
     "cellMetadata": {
      "byteLimit": 2048000,
      "rowLimit": 10000
     },
     "inputWidgets": {},
     "nuid": "9fa4bfb1-4bd0-40a2-a405-f9ac80ed98b4",
     "showTitle": false,
     "title": ""
    }
   },
   "source": [
    "\n",
    "####Visualização em gráfico: Plotly"
   ]
  },
  {
   "cell_type": "code",
   "execution_count": 0,
   "metadata": {
    "application/vnd.databricks.v1+cell": {
     "cellMetadata": {
      "byteLimit": 2048000,
      "rowLimit": 10000
     },
     "inputWidgets": {},
     "nuid": "956295d4-97de-4d30-8b12-9e5744f669d6",
     "showTitle": false,
     "title": ""
    }
   },
   "outputs": [
    {
     "output_type": "stream",
     "name": "stderr",
     "output_type": "stream",
     "text": [
      "/databricks/spark/python/pyspark/sql/pandas/conversion.py:122: UserWarning: toPandas attempted Arrow optimization because 'spark.sql.execution.arrow.pyspark.enabled' is set to true; however, failed by the reason below:\n  Unable to convert the field features. If this column is not necessary, you may consider dropping it or converting to primitive type before the conversion.\nDirect cause: Unsupported type in conversion to Arrow: VectorUDT()\nAttempting non-optimization as 'spark.sql.execution.arrow.pyspark.fallback.enabled' is set to true.\n  warn(msg)\n"
     ]
    },
    {
     "output_type": "display_data",
     "data": {
      "image/png": "[encoded data removed]"
     },
     "metadata": {
      "application/vnd.databricks.v1+output": {
       "addedWidgets": {},
       "arguments": {},
       "data": "data:image/png;base64,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\n",
       "datasetInfos": [],
       "metadata": {},
       "removedWidgets": [],
       "type": "image"
      }
     },
     "output_type": "display_data"
    }
   ],
   "source": [
    "import matplotlib.pyplot as plt\n",
    "\n",
    "df_pandas = projetion_kmeans.toPandas()\n",
    "\n",
    "# Criar e exibir um gráfico com Matplotlib\n",
    "plt.scatter(df_pandas['x'], df_pandas['y'], c=df_pandas['cluster_pca'])\n",
    "plt.xlabel('x')\n",
    "plt.ylabel('y')\n",
    "plt.title('Visualização em Gráfico')\n",
    "display(plt.show())"
   ]
  },
  {
   "cell_type": "markdown",
   "metadata": {
    "application/vnd.databricks.v1+cell": {
     "cellMetadata": {},
     "inputWidgets": {},
     "nuid": "cf246276-fc9d-4118-a9de-0613b36040d9",
     "showTitle": false,
     "title": ""
    }
   },
   "source": [
    "\n",
    "####Sistema de Recomendação"
   ]
  },
  {
   "cell_type": "code",
   "execution_count": 0,
   "metadata": {
    "application/vnd.databricks.v1+cell": {
     "cellMetadata": {
      "byteLimit": 2048000,
      "rowLimit": 10000
     },
     "inputWidgets": {},
     "nuid": "c3758eab-db5a-41ba-9b3b-f482d6aefeb1",
     "showTitle": false,
     "title": ""
    }
   },
   "outputs": [],
   "source": [
    "nome_musica = \"Ozzy Osbourne - I Don't Wanna Stop\""
   ]
  },
  {
   "cell_type": "code",
   "execution_count": 0,
   "metadata": {
    "application/vnd.databricks.v1+cell": {
     "cellMetadata": {
      "byteLimit": 2048000,
      "rowLimit": 10000
     },
     "inputWidgets": {},
     "nuid": "650b18a3-7cee-4734-a89d-bc6f9dd9e393",
     "showTitle": false,
     "title": ""
    }
   },
   "outputs": [
    {
     "output_type": "stream",
     "name": "stdout",
     "output_type": "stream",
     "text": [
      "Out[47]: 10"
     ]
    }
   ],
   "source": [
    "cluster = projetion_kmeans.filter(projetion_kmeans.artists_song == nome_musica).select('cluster_pca').collect()[0][0]\n",
    "cluster"
   ]
  },
  {
   "cell_type": "code",
   "execution_count": 0,
   "metadata": {
    "application/vnd.databricks.v1+cell": {
     "cellMetadata": {
      "byteLimit": 2048000,
      "rowLimit": 10000
     },
     "inputWidgets": {},
     "nuid": "fee16203-653c-4217-bf42-d78277d3cf3a",
     "showTitle": false,
     "title": ""
    }
   },
   "outputs": [
    {
     "output_type": "stream",
     "name": "stdout",
     "output_type": "stream",
     "text": [
      "+--------------------+--------------------+--------------------+\n|        artists_song|                  id|        pca_features|\n+--------------------+--------------------+--------------------+\n|The Damned - 1 of...|6Ln9ALLOT1QNx1aeW...|[-32.176285117048...|\n|KISS - Plaster Ca...|4QzkNBUasOVE9abql...|[-32.549972364982...|\n|   The Damned - Help|4A7Ht7viwPId0Ddry...|[-32.224078428096...|\n|Yes - Parallels -...|73RVbX3YhvDYTSyrz...|[-32.414542627532...|\n|Ted Nugent - Swee...|3ycSyvu1eKlcQE1Ql...|[-32.775985646787...|\n|\"\"\"Mothers Finest...|02Zsj8VGV4LzY82RF...|[-32.778909253785...|\n|Blondie - Youth N...|2qOIGYRyK8956qxBC...|[-32.679021337140...|\n|Buzzcocks - Sixte...|7q1AB9DE8HWeIm5SC...|[-32.186186462579...|\n|Triumph - Young E...|3kSnvPi6qVuPwGl0e...|[-32.642486484427...|\n|Buzzcocks - Promi...|4SKnkn7ANtSioxpxe...|[-32.569304970145...|\n|Patti Smith - So ...|5dZDQPiC2PGom8Q8p...|[-32.594981101594...|\n|The Dickies - Giv...|0q3UxKpFtkTQr7gqm...|[-32.450001702720...|\n|The Jam - Strange...|1IoCE925OTxvKCck5...|[-32.400915090327...|\n|Eddie Money - Tri...|5qrTdnhS9NJdnf6oP...|[-32.659655519343...|\n|Genesis - Behind ...|3nLiohDYekV7OxHf7...|[-32.261722723017...|\n|Judas Priest - Th...|7wPy0sxVkJLvmsrRR...|[-32.222444698170...|\n|Discharge - Does ...|5U24TmMfVmPC6hMBf...|[-32.655028887873...|\n|Joan Jett & The B...|6X5NVuNVx5Z71ao6s...|[-33.183704341696...|\n|Judas Priest - On...|54c38CvMFlVG8RDDQ...|[-32.662452410239...|\n|T.S.O.L. - I'm Ti...|73Tx2YTb4vs46UjPB...|[-33.087596789142...|\n+--------------------+--------------------+--------------------+\nonly showing top 20 rows\n\n"
     ]
    }
   ],
   "source": [
    "musicas_recomendadas = projetion_kmeans.filter(projetion_kmeans.cluster_pca == cluster)\\\n",
    "                                       .select('artists_song', 'id', 'pca_features')\n",
    "musicas_recomendadas.show()"
   ]
  },
  {
   "cell_type": "code",
   "execution_count": 0,
   "metadata": {
    "application/vnd.databricks.v1+cell": {
     "cellMetadata": {
      "byteLimit": 2048000,
      "rowLimit": 10000
     },
     "inputWidgets": {},
     "nuid": "ea40db97-c075-4f39-82e6-7419d0622637",
     "showTitle": false,
     "title": ""
    }
   },
   "outputs": [
    {
     "output_type": "stream",
     "name": "stdout",
     "output_type": "stream",
     "text": [
      "Out[49]: DenseVector([-34.3293, -20.0832, 11.6921, -13.3004, -3.8928, 4.3304])"
     ]
    }
   ],
   "source": [
    "componenetes_musica = musicas_recomendadas.filter(musicas_recomendadas.artists_song == nome_musica)\\\n",
    "                                          .select('pca_features').collect()[0][0]\n",
    "componenetes_musica"
   ]
  },
  {
   "cell_type": "markdown",
   "metadata": {
    "application/vnd.databricks.v1+cell": {
     "cellMetadata": {},
     "inputWidgets": {},
     "nuid": "f210438c-c440-4210-a857-7d112a1a03ce",
     "showTitle": false,
     "title": ""
    }
   },
   "source": [
    "\n",
    "####Distância euclidiana, ou a Distância de Manhattan"
   ]
  },
  {
   "cell_type": "code",
   "execution_count": 0,
   "metadata": {
    "application/vnd.databricks.v1+cell": {
     "cellMetadata": {
      "byteLimit": 2048000,
      "rowLimit": 10000
     },
     "inputWidgets": {},
     "nuid": "a5c8b07f-9bcb-4eba-b973-76b54ba6b463",
     "showTitle": false,
     "title": ""
    }
   },
   "outputs": [],
   "source": [
    "from scipy.spatial.distance import euclidean\n",
    "from pyspark.sql.types import FloatType\n",
    "import pyspark.sql.functions as f"
   ]
  },
  {
   "cell_type": "code",
   "execution_count": 0,
   "metadata": {
    "application/vnd.databricks.v1+cell": {
     "cellMetadata": {
      "byteLimit": 2048000,
      "rowLimit": 10000
     },
     "inputWidgets": {},
     "nuid": "ee9ccd7c-7c79-4996-8e93-9ee1cd3ffdd1",
     "showTitle": false,
     "title": ""
    }
   },
   "outputs": [],
   "source": [
    "def calcula_distance(value):\n",
    "    return euclidean(componenetes_musica, value)\n",
    "\n",
    "udf_calcula_distance = f.udf(calcula_distance, FloatType())\n",
    "\n",
    "musicas_recomendadas_dist = musicas_recomendadas.withColumn('Dist', udf_calcula_distance('pca_features'))"
   ]
  },
  {
   "cell_type": "code",
   "execution_count": 0,
   "metadata": {
    "application/vnd.databricks.v1+cell": {
     "cellMetadata": {
      "byteLimit": 2048000,
      "rowLimit": 10000
     },
     "inputWidgets": {},
     "nuid": "57ed76d0-3450-44d8-98b5-894c252d525c",
     "showTitle": false,
     "title": ""
    }
   },
   "outputs": [
    {
     "output_type": "stream",
     "name": "stdout",
     "output_type": "stream",
     "text": [
      "+---------------------+--------------------+------------------+\n|         artists_song|                  id|              Dist|\n+---------------------+--------------------+------------------+\n| Ozzy Osbourne - I...|5axOkQnmQmwtjr4bv...|               0.0|\n| Veruca Salt - Vol...|3cMliO9emUSa4d1Ap...|0.5824853181838989|\n| Metro Station - S...|5619Ojc6t9evEEs3B...|0.6096569299697876|\n|ORANGE RANGE - *〜...|706e7n479uUY8Q46j...|0.6335635185241699|\n| Pop Evil - Waking...|1VMSib83ZkffP22T6...|0.6572247743606567|\n| The Lacs; Colt Fo...|3ZcMXQWbbakgkPreW...|0.6624042987823486|\n| Panic! At The Dis...|5VHwEHR0IfvV4f7V7...|0.6683579683303833|\n| Eric Church - Col...|1ffMmNQ42w7dIwyCD...|0.6806853413581848|\n| The Fratellis - F...|3Z0ukCjFccmd8sTFa...|0.6946815848350525|\n| Manafest - No Plan B|0U2Lb5cOaUJ6tBl8o...|0.7020572423934937|\n+---------------------+--------------------+------------------+\n\n"
     ]
    }
   ],
   "source": [
    "recomendadas = spark.createDataFrame(musicas_recomendadas_dist.sort('Dist').take(10)).select(['artists_song', 'id', 'Dist'])\n",
    "\n",
    "recomendadas.show()"
   ]
  },
  {
   "cell_type": "code",
   "execution_count": 0,
   "metadata": {
    "application/vnd.databricks.v1+cell": {
     "cellMetadata": {
      "byteLimit": 2048000,
      "rowLimit": 10000
     },
     "inputWidgets": {},
     "nuid": "3b06fc2a-ddfc-440f-a823-dd131f3d9246",
     "showTitle": false,
     "title": ""
    }
   },
   "outputs": [],
   "source": [
    "def recomendador(nome_musica):\n",
    "    cluster = projetion_kmeans.filter(projetion_kmeans.artists_song == nome_musica).select('cluster_pca').collect()[0][0]\n",
    "    musicas_recomendadas = projetion_kmeans.filter(projetion_kmeans.cluster_pca == cluster)\\\n",
    "                                       .select('artists_song', 'id', 'pca_features')\n",
    "    componenetes_musica = musicas_recomendadas.filter(musicas_recomendadas.artists_song == nome_musica)\\\n",
    "                                          .select('pca_features').collect()[0][0]\n",
    "    \n",
    "    def calcula_distance(value):\n",
    "        return euclidean(componenetes_musica, value)\n",
    "\n",
    "    udf_calcula_distance = f.udf(calcula_distance, FloatType())\n",
    "\n",
    "    musicas_recomendadas_dist = musicas_recomendadas.withColumn('Dist', udf_calcula_distance('pca_features'))\n",
    "    \n",
    "    recomendadas = spark.createDataFrame(musicas_recomendadas_dist.sort('Dist').take(10)).select(['artists_song', 'id', 'Dist'])\n",
    "\n",
    "    return recomendadas"
   ]
  },
  {
   "cell_type": "code",
   "execution_count": 0,
   "metadata": {
    "application/vnd.databricks.v1+cell": {
     "cellMetadata": {
      "byteLimit": 2048000,
      "rowLimit": 10000
     },
     "inputWidgets": {},
     "nuid": "eab43c8a-813f-4e55-bf32-5d3c363cf334",
     "showTitle": false,
     "title": ""
    }
   },
   "outputs": [
    {
     "output_type": "stream",
     "name": "stdout",
     "output_type": "stream",
     "text": [
      "+---------------------+--------------------+------------------+\n|         artists_song|                  id|              Dist|\n+---------------------+--------------------+------------------+\n| Ozzy Osbourne - I...|5axOkQnmQmwtjr4bv...|               0.0|\n| Veruca Salt - Vol...|3cMliO9emUSa4d1Ap...|0.5824853181838989|\n| Metro Station - S...|5619Ojc6t9evEEs3B...|0.6096569299697876|\n|ORANGE RANGE - *〜...|706e7n479uUY8Q46j...|0.6335635185241699|\n| Pop Evil - Waking...|1VMSib83ZkffP22T6...|0.6572247743606567|\n| The Lacs; Colt Fo...|3ZcMXQWbbakgkPreW...|0.6624042987823486|\n| Panic! At The Dis...|5VHwEHR0IfvV4f7V7...|0.6683579683303833|\n| Eric Church - Col...|1ffMmNQ42w7dIwyCD...|0.6806853413581848|\n| The Fratellis - F...|3Z0ukCjFccmd8sTFa...|0.6946815848350525|\n| Manafest - No Plan B|0U2Lb5cOaUJ6tBl8o...|0.7020572423934937|\n+---------------------+--------------------+------------------+\n\n"
     ]
    }
   ],
   "source": [
    "df_recomedada = recomendador(\"Ozzy Osbourne - I Don't Wanna Stop\")\n",
    "df_recomedada.show()"
   ]
  },
  {
   "cell_type": "code",
   "execution_count": 0,
   "metadata": {
    "application/vnd.databricks.v1+cell": {
     "cellMetadata": {},
     "inputWidgets": {},
     "nuid": "32bf2455-e16f-471c-9c09-3eda26280497",
     "showTitle": false,
     "title": ""
    }
   },
   "outputs": [],
   "source": []
  }
 ],
 "metadata": {
  "application/vnd.databricks.v1+notebook": {
   "dashboards": [],
   "language": "python",
   "notebookMetadata": {
    "pythonIndentUnit": 4
   },
   "notebookName": "Sistema de Recomendação",
   "widgets": {}
  }
 },
 "nbformat": 4,
 "nbformat_minor": 0
}
